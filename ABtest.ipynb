{
 "cells": [
  {
   "cell_type": "code",
   "execution_count": 2,
   "id": "5749907c-ebfd-4e96-b12e-4a085b071aa3",
   "metadata": {},
   "outputs": [],
   "source": [
    "import pandahouse\n",
    "import numpy as np\n",
    "import pandas as pd"
   ]
  },
  {
   "cell_type": "code",
   "execution_count": 3,
   "id": "ee3c0b79-0a5b-4a49-9bc3-23b40f9dbfb0",
   "metadata": {},
   "outputs": [],
   "source": [
    "from scipy import stats"
   ]
  },
  {
   "cell_type": "code",
   "execution_count": 4,
   "id": "b9221bd0-2b89-44b6-bd85-50fac6ef660f",
   "metadata": {},
   "outputs": [],
   "source": [
    "import seaborn as sns"
   ]
  },
  {
   "cell_type": "code",
   "execution_count": null,
   "id": "4578ef25-7991-422b-bb9a-cece6dba76be",
   "metadata": {},
   "outputs": [],
   "source": [
    "Задача: проанализировать результаты эксперимента, который проходил с 2022-07-13 по 2022-07-19.\n",
    "Группа 1 - контрольная (без изменений)\n",
    "Группа 2 - экспериментальная (новый алгоритм рекомендации постов)"
   ]
  },
  {
   "cell_type": "code",
   "execution_count": 5,
   "id": "a1f33fd9-b370-427f-b5e6-ef732f66b7b8",
   "metadata": {},
   "outputs": [],
   "source": [
    "def bootstrap(likes1, views1, likes2, views2, n_bootstrap=2000):\n",
    "\n",
    "    poisson_bootstraps1 = stats.poisson(1).rvs(\n",
    "        (n_bootstrap, len(likes1))).astype(np.int64)\n",
    "\n",
    "    poisson_bootstraps2 = stats.poisson(1).rvs(\n",
    "            (n_bootstrap, len(likes2))).astype(np.int64)\n",
    "    \n",
    "    globalCTR1 = (poisson_bootstraps1*likes1).sum(axis=1)/(poisson_bootstraps1*views1).sum(axis=1)\n",
    "    \n",
    "    globalCTR2 = (poisson_bootstraps2*likes2).sum(axis=1)/(poisson_bootstraps2*views2).sum(axis=1)\n",
    "\n",
    "    return globalCTR1, globalCTR2"
   ]
  },
  {
   "cell_type": "code",
   "execution_count": 6,
   "id": "a3fb4dbf-2f5d-4981-a633-93bcbd9b7e3e",
   "metadata": {},
   "outputs": [],
   "source": [
    "connection = {\n",
    "    'host': 'https://clickhouse.lab.karpov.courses',\n",
    "    'password': 'password',\n",
    "    'user': 'student',\n",
    "    'database': 'simulator'\n",
    "}"
   ]
  },
  {
   "cell_type": "code",
   "execution_count": 16,
   "id": "1e476cff-e16e-45c4-a528-87889ba66379",
   "metadata": {},
   "outputs": [],
   "source": [
    "q = \"\"\"\n",
    "SELECT exp_group, \n",
    "    user_id,\n",
    "    sum(action = 'like') as likes,\n",
    "    sum(action = 'view') as views,\n",
    "    likes/views as ctr\n",
    "FROM simulator_20220820.feed_actions \n",
    "WHERE toDate(time) between '2022-07-13' and '2022-07-19'\n",
    "    and exp_group in (1,2)\n",
    "GROUP BY exp_group, user_id\n",
    "\"\"\""
   ]
  },
  {
   "cell_type": "code",
   "execution_count": 17,
   "id": "32950479-ce28-4aa0-b383-24cfecf07804",
   "metadata": {},
   "outputs": [],
   "source": [
    "df = pandahouse.read_clickhouse(q, connection=connection)"
   ]
  },
  {
   "cell_type": "markdown",
   "id": "684e77cc-9070-4247-bca7-dd2775e3e176",
   "metadata": {},
   "source": [
    "Проведем обычный t-test и построим гистограммы."
   ]
  },
  {
   "cell_type": "code",
   "execution_count": 19,
   "id": "2d457f7c-03f1-4b09-bd0b-42feede4b07d",
   "metadata": {},
   "outputs": [
    {
     "data": {
      "text/plain": [
       "Ttest_indResult(statistic=0.7094392041270486, pvalue=0.4780623130874935)"
      ]
     },
     "execution_count": 19,
     "metadata": {},
     "output_type": "execute_result"
    }
   ],
   "source": [
    "stats.ttest_ind(df[df.exp_group == 1].ctr,\n",
    "                df[df.exp_group == 2].ctr,\n",
    "                equal_var=False)"
   ]
  },
  {
   "cell_type": "code",
   "execution_count": 20,
   "id": "9fa863e3-8684-4e96-9565-502d27c66c91",
   "metadata": {},
   "outputs": [
    {
     "data": {
      "image/png": "[encoded data removed]",
      "text/plain": [
       "<Figure size 432x288 with 1 Axes>"
      ]
     },
     "metadata": {
      "needs_background": "light"
     },
     "output_type": "display_data"
    }
   ],
   "source": [
    "groups = sns.histplot(data = df, \n",
    "              x='ctr', \n",
    "              hue='exp_group', \n",
    "              palette = ['r', 'b'],\n",
    "              alpha=0.5,\n",
    "              kde=False)"
   ]
  },
  {
   "cell_type": "markdown",
   "id": "cc33877d-34f8-47b0-9494-dae21db0c658",
   "metadata": {},
   "source": [
    "В обычном t-test значимого различия незамечено, но возможно это связано\n",
    "с ненормальным распределением во второй группе.\n",
    "Проведем дополнительно тест Манна-Уитни."
   ]
  },
  {
   "cell_type": "code",
   "execution_count": 21,
   "id": "3d22eb81-0c92-4a40-b27c-cf0bb68311d0",
   "metadata": {},
   "outputs": [
    {
     "data": {
      "text/plain": [
       "MannwhitneyuResult(statistic=56601260.5, pvalue=6.0376484617779035e-56)"
      ]
     },
     "execution_count": 21,
     "metadata": {},
     "output_type": "execute_result"
    }
   ],
   "source": [
    "stats.mannwhitneyu(df[df.exp_group == 1].ctr, \n",
    "                   df[df.exp_group == 2].ctr,\n",
    "                   alternative = 'two-sided')"
   ]
  },
  {
   "cell_type": "code",
   "execution_count": null,
   "id": "939b1173-3e14-449f-92c8-1eb51a3cbab7",
   "metadata": {},
   "outputs": [],
   "source": [
    "Теперь p-value показывает статистически значимую разницу между группами."
   ]
  },
  {
   "cell_type": "code",
   "execution_count": null,
   "id": "fca6ea5e-a6ec-4d6e-9388-f3dbc5b6239e",
   "metadata": {},
   "outputs": [],
   "source": [
    "До сих пор мы сравнивали поюзерный CTR.\n",
    "Попробуем пуассоновский бутстреп для сравнения глобальных CTR в псевдовыборках."
   ]
  },
  {
   "cell_type": "code",
   "execution_count": 22,
   "id": "362607c5-2b02-45e3-be55-10cc63b00821",
   "metadata": {},
   "outputs": [],
   "source": [
    "likes1 = df[df.exp_group == 1].likes.to_numpy()\n",
    "views1 = df[df.exp_group == 1].views.to_numpy()\n",
    "likes2 = df[df.exp_group == 2].likes.to_numpy()\n",
    "views2 = df[df.exp_group == 2].views.to_numpy()"
   ]
  },
  {
   "cell_type": "code",
   "execution_count": 23,
   "id": "0741a41f-343a-4772-bc86-a7614442d25b",
   "metadata": {},
   "outputs": [],
   "source": [
    "ctr1, ctr2 = bootstrap(likes1, views1, likes2, views2)"
   ]
  },
  {
   "cell_type": "code",
   "execution_count": 28,
   "id": "fb377259-86d5-4bae-b0a4-35b5e81798a5",
   "metadata": {},
   "outputs": [
    {
     "data": {
      "text/plain": [
       "<AxesSubplot:ylabel='Count'>"
      ]
     },
     "execution_count": 28,
     "metadata": {},
     "output_type": "execute_result"
    },
    {
     "data": {
      "image/png": "[encoded data removed]",
      "text/plain": [
       "<Figure size 432x288 with 1 Axes>"
      ]
     },
     "metadata": {
      "needs_background": "light"
     },
     "output_type": "display_data"
    }
   ],
   "source": [
    "sns.histplot(ctr1, color='r')\n",
    "sns.histplot(ctr2, color='b')"
   ]
  },
  {
   "cell_type": "code",
   "execution_count": 25,
   "id": "4164a708-cd0e-4e9a-bcaa-619dc5c4d5cd",
   "metadata": {},
   "outputs": [
    {
     "data": {
      "text/plain": [
       "<AxesSubplot:ylabel='Count'>"
      ]
     },
     "execution_count": 25,
     "metadata": {},
     "output_type": "execute_result"
    },
    {
     "data": {
      "image/png": "[encoded data removed]",
      "text/plain": [
       "<Figure size 432x288 with 1 Axes>"
      ]
     },
     "metadata": {
      "needs_background": "light"
     },
     "output_type": "display_data"
    }
   ],
   "source": [
    "sns.histplot(ctr2 - ctr1)"
   ]
  },
  {
   "cell_type": "markdown",
   "id": "9ce2f7c0-9b27-4ea4-842e-19924daa8284",
   "metadata": {},
   "source": [
    "Отрицательная разница глобальных CTR между 1 и 2 группами показывает ухудшение CTR в экспериментальной группе."
   ]
  },
  {
   "cell_type": "markdown",
   "id": "f11dc4f8-db2f-4557-8551-70519561739d",
   "metadata": {},
   "source": [
    "Вывод: раскатывать новый алгоритм на всех пользователей нельзя, так как целевая метрика CTR может в результате ухудшиться. Как вариант, можно посмотреть влияние алгоритма на определенные группы пользователей и создать новые группы для AB-теста, например, по принципу операционной системы."
   ]
  }
 ],
 "metadata": {
  "kernelspec": {
   "display_name": "Python 3 (ipykernel)",
   "language": "python",
   "name": "python3"
  },
  "language_info": {
   "codemirror_mode": {
    "name": "ipython",
    "version": 3
   },
   "file_extension": ".py",
   "mimetype": "text/x-python",
   "name": "python",
   "nbconvert_exporter": "python",
   "pygments_lexer": "ipython3",
   "version": "3.8.10"
  }
 },
 "nbformat": 4,
 "nbformat_minor": 5
}
