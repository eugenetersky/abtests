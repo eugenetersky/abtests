{
 "cells": [
  {
   "cell_type": "code",
   "execution_count": 1,
   "id": "794af803-98d7-4107-a491-7cb4caa8e4a8",
   "metadata": {},
   "outputs": [],
   "source": [
    "import pandahouse\n",
    "import numpy as np\n",
    "import pandas as pd"
   ]
  },
  {
   "cell_type": "code",
   "execution_count": 2,
   "id": "c7fbfc8f-73a1-4af4-8ff0-267226392164",
   "metadata": {},
   "outputs": [],
   "source": [
    "from scipy import stats"
   ]
  },
  {
   "cell_type": "code",
   "execution_count": 3,
   "id": "50d897ea-0b1b-4220-9ad4-d118e18ea554",
   "metadata": {},
   "outputs": [],
   "source": [
    "import seaborn as sns"
   ]
  },
  {
   "cell_type": "markdown",
   "id": "b84ac426",
   "metadata": {},
   "source": [
    "При проведении АА-теста было бы здорово убедиться в том, что наша система сплитования работает корректно, и ключевая метрика не отличается между группами не только в конкретно нашем АА-тесте, но и в целом. Для этого нужно сделать симуляцию, как будто мы провели 10000 АА-тестов. На каждой итерации нужно сформировать подвыборки без повторения в 500 юзеров из 2 и 3 экспериментальной группы. Провести сравнение этих подвыборок t-testом."
   ]
  },
  {
   "cell_type": "markdown",
   "id": "78b2e1ac-2e5d-454a-bc96-cd89ddd86dc2",
   "metadata": {},
   "source": [
    "Симуляция, как будто мы провели n_t АА-тестов в 2 группах с n_s уникальных пользователей"
   ]
  },
  {
   "cell_type": "code",
   "execution_count": 4,
   "id": "6ea835e8-fae9-411a-9b27-eacd29757275",
   "metadata": {},
   "outputs": [],
   "source": [
    "def run_test(group1, group2, n_t, n_s):\n",
    "    pvalue_array = []\n",
    "    for i in range(n_t):\n",
    "        s1 = group1.sample(n_s)\n",
    "        s2 = group2.sample(n_s)\n",
    "        pvalue = stats.ttest_ind(s1, s2, equal_var=False)\n",
    "        pvalue_array.append(pvalue[1])\n",
    "    pvalue_array = np.array(pvalue_array)\n",
    "    return pvalue_array"
   ]
  },
  {
   "cell_type": "code",
   "execution_count": 5,
   "id": "5ef4f6ea-779e-4bc7-a963-b161c21c6d39",
   "metadata": {},
   "outputs": [],
   "source": [
    "connection = {\n",
    "    'host': 'https://clickhouse.lab.karpov.courses',\n",
    "    'password': 'password',\n",
    "    'user': 'student',\n",
    "    'database': 'simulator'\n",
    "}"
   ]
  },
  {
   "cell_type": "markdown",
   "id": "cbc43b73-378a-499c-9890-58e96cd87ea3",
   "metadata": {},
   "source": [
    "Данные АА-теста с '2022-07-06' по '2022-07-12'."
   ]
  },
  {
   "cell_type": "code",
   "execution_count": 6,
   "id": "4d64586d-b822-489e-8cc6-997e85ce83a7",
   "metadata": {},
   "outputs": [],
   "source": [
    "q = \"\"\"\n",
    "SELECT exp_group, \n",
    "    user_id,\n",
    "    sum(action = 'like') as likes,\n",
    "    sum(action = 'view') as views,\n",
    "    likes/views as ctr\n",
    "FROM simulator_20220820.feed_actions  \n",
    "WHERE toDate(time) between '2022-07-06' and '2022-07-12'\n",
    "    and exp_group in (2,3)\n",
    "GROUP BY exp_group, user_id\n",
    "\"\"\""
   ]
  },
  {
   "cell_type": "code",
   "execution_count": 7,
   "id": "14b1d834-f7cd-48b9-a4fa-07d2de199738",
   "metadata": {},
   "outputs": [],
   "source": [
    "df = pandahouse.read_clickhouse(q, connection=connection)"
   ]
  },
  {
   "cell_type": "markdown",
   "id": "f7c23053-ee67-4a91-95d4-97ebac2c34e2",
   "metadata": {},
   "source": [
    "Запускаем симуляцию 10000 АА-тестов по 500 пользователей в каждой группе."
   ]
  },
  {
   "cell_type": "code",
   "execution_count": 8,
   "id": "6f8cd9ef-3a38-4e99-9f51-038f8870fc7e",
   "metadata": {},
   "outputs": [],
   "source": [
    "tresult = run_test(df[df.exp_group == 2].ctr, df[df.exp_group == 3].ctr, 10000, 500)"
   ]
  },
  {
   "cell_type": "code",
   "execution_count": 9,
   "id": "05c7e8da-1366-48d6-8b1f-b84888a159ec",
   "metadata": {},
   "outputs": [],
   "source": [
    "df = pd.DataFrame(tresult, columns=['pvalue'])"
   ]
  },
  {
   "cell_type": "markdown",
   "id": "f7d9e38a-2a79-481d-916e-e54026a99fa0",
   "metadata": {},
   "source": [
    "Построим гистограмму распределения получившихся 10000 p-values."
   ]
  },
  {
   "cell_type": "code",
   "execution_count": 10,
   "id": "91e8e101-8ef4-4b1e-a20c-0dfbffb7a260",
   "metadata": {},
   "outputs": [
    {
     "data": {
      "text/plain": [
       "<AxesSubplot:ylabel='Count'>"
      ]
     },
     "execution_count": 10,
     "metadata": {},
     "output_type": "execute_result"
    },
    {
     "data": {
      "image/png": "[encoded data removed]",
      "text/plain": [
       "<Figure size 432x288 with 1 Axes>"
      ]
     },
     "metadata": {
      "needs_background": "light"
     },
     "output_type": "display_data"
    }
   ],
   "source": [
    "sns.histplot(data = df, bins = 50)"
   ]
  },
  {
   "cell_type": "markdown",
   "id": "96849e31-309b-43a6-bc27-612b1507512f",
   "metadata": {},
   "source": [
    "Посчитаем, какой процент p values оказался меньше либо равен 0.05."
   ]
  },
  {
   "cell_type": "code",
   "execution_count": 11,
   "id": "fd1a79b3-04ea-41e9-8bec-83a4803e74dd",
   "metadata": {},
   "outputs": [],
   "source": [
    "df2 = pd.DataFrame(tresult[tresult <= 0.05])"
   ]
  },
  {
   "cell_type": "code",
   "execution_count": 12,
   "id": "fddd1d41-aca3-4a90-b4c2-43e987333e16",
   "metadata": {},
   "outputs": [],
   "source": [
    "pct = int(df2.count()) / (int(df.count())/100)"
   ]
  },
  {
   "cell_type": "code",
   "execution_count": 13,
   "id": "753ec0a5-0e72-47b7-9e3c-ced360f98483",
   "metadata": {},
   "outputs": [
    {
     "data": {
      "text/plain": [
       "4.75"
      ]
     },
     "execution_count": 13,
     "metadata": {},
     "output_type": "execute_result"
    }
   ],
   "source": [
    "pct # процент p-values меньше либо равен 0.05"
   ]
  },
  {
   "cell_type": "markdown",
   "id": "d45ab93e-1cd7-4121-a8fc-fc6975954ead",
   "metadata": {},
   "source": [
    "Вывод по проведенному АА-тесту: система сплитирования работает корректно, группы статистически идентичны, так как лишь около 5% p-value меньше или равны 0.05 и p-values распределяются по равномерному закону."
   ]
  }
 ],
 "metadata": {
  "kernelspec": {
   "display_name": "Python 3 (ipykernel)",
   "language": "python",
   "name": "python3"
  },
  "language_info": {
   "codemirror_mode": {
    "name": "ipython",
    "version": 3
   },
   "file_extension": ".py",
   "mimetype": "text/x-python",
   "name": "python",
   "nbconvert_exporter": "python",
   "pygments_lexer": "ipython3",
   "version": "3.8.10"
  }
 },
 "nbformat": 4,
 "nbformat_minor": 5
}
